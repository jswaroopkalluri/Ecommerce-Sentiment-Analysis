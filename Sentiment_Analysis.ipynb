{
  "nbformat": 4,
  "nbformat_minor": 0,
  "metadata": {
    "colab": {
      "name": "Sentiment Analysis.ipynb",
      "provenance": [],
      "collapsed_sections": []
    },
    "kernelspec": {
      "name": "python3",
      "display_name": "Python 3"
    },
    "language_info": {
      "name": "python"
    }
  },
  "cells": [
    {
      "cell_type": "code",
      "metadata": {
        "id": "uzOgOGC8P1_B"
      },
      "source": [
        "#import urllib\n",
        "import numpy as np\n",
        "import pandas as pd\n",
        "import nltk\n",
        "import re\n",
        "import string\n",
        "from nltk.corpus import stopwords\n",
        "from nltk.stem import PorterStemmer\n",
        "from nltk.tokenize import word_tokenize\n",
        "import matplotlib.pyplot as plt"
      ],
      "execution_count": 222,
      "outputs": []
    },
    {
      "cell_type": "code",
      "metadata": {
        "id": "wh3PXKJSP211"
      },
      "source": [
        "csv_df = pd.read_csv('/content/SentimentAnalysis.csv',low_memory=False)"
      ],
      "execution_count": 223,
      "outputs": []
    },
    {
      "cell_type": "markdown",
      "metadata": {
        "id": "XXljDo5eTsfr"
      },
      "source": [
        "# **Data Set Defination**:\n",
        "From the data frame information we can see it has 21 columns and the 34660 rows\n",
        "\n",
        "But each row is not filled with all the columns so we need to perform some column removal and perform data exploration\n",
        "\n",
        "We can figure out the required columns and drop the rest\n",
        "\n",
        "Also we need to perform renaming of the remaining columns for better readability"
      ]
    },
    {
      "cell_type": "code",
      "metadata": {
        "colab": {
          "base_uri": "https://localhost:8080/"
        },
        "id": "iybf2tpGOi7f",
        "outputId": "fb38d80c-b00b-4c55-b511-fe486ba19485"
      },
      "source": [
        "csv_df.info()"
      ],
      "execution_count": null,
      "outputs": [
        {
          "output_type": "stream",
          "name": "stdout",
          "text": [
            "<class 'pandas.core.frame.DataFrame'>\n",
            "RangeIndex: 34660 entries, 0 to 34659\n",
            "Data columns (total 21 columns):\n",
            " #   Column                Non-Null Count  Dtype  \n",
            "---  ------                --------------  -----  \n",
            " 0   id                    34660 non-null  object \n",
            " 1   name                  27900 non-null  object \n",
            " 2   asins                 34658 non-null  object \n",
            " 3   brand                 34660 non-null  object \n",
            " 4   categories            34660 non-null  object \n",
            " 5   keys                  34660 non-null  object \n",
            " 6   manufacturer          34660 non-null  object \n",
            " 7   reviews.date          34621 non-null  object \n",
            " 8   reviews.dateAdded     24039 non-null  object \n",
            " 9   reviews.dateSeen      34660 non-null  object \n",
            " 10  reviews.didPurchase   1 non-null      object \n",
            " 11  reviews.doRecommend   34066 non-null  object \n",
            " 12  reviews.id            1 non-null      float64\n",
            " 13  reviews.numHelpful    34131 non-null  float64\n",
            " 14  reviews.rating        34627 non-null  float64\n",
            " 15  reviews.sourceURLs    34660 non-null  object \n",
            " 16  reviews.text          34659 non-null  object \n",
            " 17  reviews.title         34655 non-null  object \n",
            " 18  reviews.userCity      0 non-null      float64\n",
            " 19  reviews.userProvince  0 non-null      float64\n",
            " 20  reviews.username      34658 non-null  object \n",
            "dtypes: float64(5), object(16)\n",
            "memory usage: 5.6+ MB\n"
          ]
        }
      ]
    },
    {
      "cell_type": "markdown",
      "metadata": {
        "id": "7GuonYI-TWh8"
      },
      "source": [
        "# **Dropping Few Columns**\n",
        "Columns like review.id, provinance, did_purchase, city because the data related to them is low\n",
        "\n",
        "Also removing columns like user name, source, keys considering they are don't effect the prediction\n",
        "\n",
        "Also columns related to date are not of much significane for us because we are assuming the weight of of the rating is similar irrespective of time\n",
        "\n",
        "Also dropping do recommend because here in sentiment analysis we are not considering for each product individually infact we are performing thinking all products are same\n",
        "\n",
        "As the count of removed columns is more so instead selecting rest of the columns\n"
      ]
    },
    {
      "cell_type": "code",
      "metadata": {
        "id": "5PFVIfRuTU7v"
      },
      "source": [
        "selectColumns = csv_df[[\"id\", \"name\",\"asins\",\"brand\",\"categories\",\"reviews.numHelpful\",\"reviews.rating\",\"reviews.text\",\"reviews.title\"]]"
      ],
      "execution_count": null,
      "outputs": []
    },
    {
      "cell_type": "markdown",
      "metadata": {
        "id": "2Dx1LWrBZMQW"
      },
      "source": [
        "# **Data Exploration**  \n",
        "Based on the checking sample data below we can assume the first 3 columns are similar if the assumption is correct we can select one among those 3.\n",
        "\n",
        "The Brand Column is all the times amazon if so then we can drop it.\n",
        "The Recommend Column is mostly true based on the output we can perform some actions \n",
        "\n",
        "Number of Helpful looks like mostly 0.0 if it is true then we need to drop it completely because our data set is not very huge that we can just ignore not helpful once.\n",
        "\n",
        "Rating and text are mandatory columns.\n",
        "\n",
        "Title also we can drop because its just one word which will give a strong relation to the rating but if we use it we don't perform much analysis which may easily give best performance.Also most of them are using product name which can be know from first 3 columns, this can easily provide the rating because \n"
      ]
    },
    {
      "cell_type": "code",
      "metadata": {
        "colab": {
          "base_uri": "https://localhost:8080/",
          "height": 380
        },
        "id": "QBUv0cEJbEGS",
        "outputId": "0b445104-bcb7-47e4-b039-7747e600e208"
      },
      "source": [
        "selectColumns[:5]"
      ],
      "execution_count": null,
      "outputs": [
        {
          "output_type": "execute_result",
          "data": {
            "text/html": [
              "<div>\n",
              "<style scoped>\n",
              "    .dataframe tbody tr th:only-of-type {\n",
              "        vertical-align: middle;\n",
              "    }\n",
              "\n",
              "    .dataframe tbody tr th {\n",
              "        vertical-align: top;\n",
              "    }\n",
              "\n",
              "    .dataframe thead th {\n",
              "        text-align: right;\n",
              "    }\n",
              "</style>\n",
              "<table border=\"1\" class=\"dataframe\">\n",
              "  <thead>\n",
              "    <tr style=\"text-align: right;\">\n",
              "      <th></th>\n",
              "      <th>id</th>\n",
              "      <th>name</th>\n",
              "      <th>asins</th>\n",
              "      <th>brand</th>\n",
              "      <th>categories</th>\n",
              "      <th>reviews.numHelpful</th>\n",
              "      <th>reviews.rating</th>\n",
              "      <th>reviews.text</th>\n",
              "      <th>reviews.title</th>\n",
              "    </tr>\n",
              "  </thead>\n",
              "  <tbody>\n",
              "    <tr>\n",
              "      <th>0</th>\n",
              "      <td>AVqkIhwDv8e3D1O-lebb</td>\n",
              "      <td>All-New Fire HD 8 Tablet, 8 HD Display, Wi-Fi,...</td>\n",
              "      <td>B01AHB9CN2</td>\n",
              "      <td>Amazon</td>\n",
              "      <td>Electronics,iPad &amp; Tablets,All Tablets,Fire Ta...</td>\n",
              "      <td>0.0</td>\n",
              "      <td>5.0</td>\n",
              "      <td>This product so far has not disappointed. My c...</td>\n",
              "      <td>Kindle</td>\n",
              "    </tr>\n",
              "    <tr>\n",
              "      <th>1</th>\n",
              "      <td>AVqkIhwDv8e3D1O-lebb</td>\n",
              "      <td>All-New Fire HD 8 Tablet, 8 HD Display, Wi-Fi,...</td>\n",
              "      <td>B01AHB9CN2</td>\n",
              "      <td>Amazon</td>\n",
              "      <td>Electronics,iPad &amp; Tablets,All Tablets,Fire Ta...</td>\n",
              "      <td>0.0</td>\n",
              "      <td>5.0</td>\n",
              "      <td>great for beginner or experienced person. Boug...</td>\n",
              "      <td>very fast</td>\n",
              "    </tr>\n",
              "    <tr>\n",
              "      <th>2</th>\n",
              "      <td>AVqkIhwDv8e3D1O-lebb</td>\n",
              "      <td>All-New Fire HD 8 Tablet, 8 HD Display, Wi-Fi,...</td>\n",
              "      <td>B01AHB9CN2</td>\n",
              "      <td>Amazon</td>\n",
              "      <td>Electronics,iPad &amp; Tablets,All Tablets,Fire Ta...</td>\n",
              "      <td>0.0</td>\n",
              "      <td>5.0</td>\n",
              "      <td>Inexpensive tablet for him to use and learn on...</td>\n",
              "      <td>Beginner tablet for our 9 year old son.</td>\n",
              "    </tr>\n",
              "    <tr>\n",
              "      <th>3</th>\n",
              "      <td>AVqkIhwDv8e3D1O-lebb</td>\n",
              "      <td>All-New Fire HD 8 Tablet, 8 HD Display, Wi-Fi,...</td>\n",
              "      <td>B01AHB9CN2</td>\n",
              "      <td>Amazon</td>\n",
              "      <td>Electronics,iPad &amp; Tablets,All Tablets,Fire Ta...</td>\n",
              "      <td>0.0</td>\n",
              "      <td>4.0</td>\n",
              "      <td>I've had my Fire HD 8 two weeks now and I love...</td>\n",
              "      <td>Good!!!</td>\n",
              "    </tr>\n",
              "    <tr>\n",
              "      <th>4</th>\n",
              "      <td>AVqkIhwDv8e3D1O-lebb</td>\n",
              "      <td>All-New Fire HD 8 Tablet, 8 HD Display, Wi-Fi,...</td>\n",
              "      <td>B01AHB9CN2</td>\n",
              "      <td>Amazon</td>\n",
              "      <td>Electronics,iPad &amp; Tablets,All Tablets,Fire Ta...</td>\n",
              "      <td>0.0</td>\n",
              "      <td>5.0</td>\n",
              "      <td>I bought this for my grand daughter when she c...</td>\n",
              "      <td>Fantastic Tablet for kids</td>\n",
              "    </tr>\n",
              "  </tbody>\n",
              "</table>\n",
              "</div>"
            ],
            "text/plain": [
              "                     id  ...                            reviews.title\n",
              "0  AVqkIhwDv8e3D1O-lebb  ...                                   Kindle\n",
              "1  AVqkIhwDv8e3D1O-lebb  ...                                very fast\n",
              "2  AVqkIhwDv8e3D1O-lebb  ...  Beginner tablet for our 9 year old son.\n",
              "3  AVqkIhwDv8e3D1O-lebb  ...                                  Good!!!\n",
              "4  AVqkIhwDv8e3D1O-lebb  ...                Fantastic Tablet for kids\n",
              "\n",
              "[5 rows x 9 columns]"
            ]
          },
          "metadata": {},
          "execution_count": 119
        }
      ]
    },
    {
      "cell_type": "markdown",
      "metadata": {
        "id": "i5-Pl9MMiQTK"
      },
      "source": [
        "Checking if first 3 columns are same"
      ]
    },
    {
      "cell_type": "code",
      "metadata": {
        "id": "C9VrwuaKdwmN"
      },
      "source": [
        "#removing nulls from the first 3 columns\n",
        "removeNA=selectColumns.dropna(subset=['id','name','asins'])"
      ],
      "execution_count": null,
      "outputs": []
    },
    {
      "cell_type": "code",
      "metadata": {
        "colab": {
          "base_uri": "https://localhost:8080/"
        },
        "id": "Ek-VYMXmf-Eb",
        "outputId": "bfe93e51-876c-43fd-b901-60422fef75a3"
      },
      "source": [
        "#checking unique value count\n",
        "print(len(removeNA['id'].value_counts()))\n",
        "print(len(removeNA['name'].value_counts()))\n",
        "print(len(removeNA['asins'].value_counts()))"
      ],
      "execution_count": null,
      "outputs": [
        {
          "output_type": "stream",
          "name": "stdout",
          "text": [
            "29\n",
            "48\n",
            "29\n"
          ]
        }
      ]
    },
    {
      "cell_type": "markdown",
      "metadata": {
        "id": "Nt3s5elZizQo"
      },
      "source": [
        "From this below result can confirm our hypothesis is but correct, the first and 3rd column are same because the unique count together and individually is same\n",
        "\n",
        "We can select 3rd from 1st and 3rd as it is more readable\n",
        "\n",
        "But we can remove the name and category column also because it is also related to product details and those count is more than 'asins' column. As our data set is not very huge so better to have more values under a product for better analysis\n"
      ]
    },
    {
      "cell_type": "code",
      "metadata": {
        "colab": {
          "base_uri": "https://localhost:8080/"
        },
        "id": "ZmgbKUeShXCh",
        "outputId": "57cccf0a-7de8-4e60-9981-97f50d3b0f5f"
      },
      "source": [
        "#checking unique value count for id, asin together\n",
        "removeNA.groupby(by=['id','asins']).ngroups"
      ],
      "execution_count": null,
      "outputs": [
        {
          "output_type": "execute_result",
          "data": {
            "text/plain": [
              "29"
            ]
          },
          "metadata": {},
          "execution_count": 122
        }
      ]
    },
    {
      "cell_type": "markdown",
      "metadata": {
        "id": "DXXGF6SVlbUN"
      },
      "source": [
        "Checking for Brand column if it entirely amazon which is true based on below output"
      ]
    },
    {
      "cell_type": "code",
      "metadata": {
        "colab": {
          "base_uri": "https://localhost:8080/"
        },
        "id": "_B0qT8B7l26D",
        "outputId": "82f5e13e-0a06-4b66-a697-c9991eecf4f8"
      },
      "source": [
        "print(len(removeNA['brand'].value_counts()))"
      ],
      "execution_count": null,
      "outputs": [
        {
          "output_type": "stream",
          "name": "stdout",
          "text": [
            "1\n"
          ]
        }
      ]
    },
    {
      "cell_type": "markdown",
      "metadata": {
        "id": "FXArVYPwj_cF"
      },
      "source": [
        " **Plotting number of Helpful reviews and getting details of ratio of ratings**\n",
        "\n",
        "Using Histogram for plotting\n",
        "From below we find that number of useful review rating is almost zero for evey review so we need to drop it.\n",
        "\n",
        "Ratings are found more inclined to 4 and 5. So while we develop model lets consider 3,2,1 as negative label so that log likely hood is not very positive initally"
      ]
    },
    {
      "cell_type": "code",
      "metadata": {
        "colab": {
          "base_uri": "https://localhost:8080/",
          "height": 390
        },
        "id": "9ElNhIlmjbbU",
        "outputId": "3fc303a1-c194-470d-87c1-9f52dce22f1a"
      },
      "source": [
        "selectColumns.hist(bins=20, figsize=(10,5))"
      ],
      "execution_count": null,
      "outputs": [
        {
          "output_type": "execute_result",
          "data": {
            "text/plain": [
              "array([[<matplotlib.axes._subplots.AxesSubplot object at 0x7fa8b8c91850>,\n",
              "        <matplotlib.axes._subplots.AxesSubplot object at 0x7fa8b687e150>]],\n",
              "      dtype=object)"
            ]
          },
          "metadata": {},
          "execution_count": 124
        },
        {
          "output_type": "display_data",
          "data": {
            "image/png": "[encoded data removed]",
            "text/plain": [
              "<Figure size 720x360 with 2 Axes>"
            ]
          },
          "metadata": {
            "needs_background": "light"
          }
        }
      ]
    },
    {
      "cell_type": "markdown",
      "metadata": {
        "id": "Q5EyXL7_mEZO"
      },
      "source": [
        "So now after some analysis we can drop the rest of not required columns which are id, name, brand, number of Helpful, Title"
      ]
    },
    {
      "cell_type": "code",
      "metadata": {
        "id": "xhH2_fkpmEBQ"
      },
      "source": [
        "finalColumns = selectColumns[[\"asins\",\"reviews.rating\",\"reviews.text\"]]"
      ],
      "execution_count": null,
      "outputs": []
    },
    {
      "cell_type": "code",
      "metadata": {
        "colab": {
          "base_uri": "https://localhost:8080/",
          "height": 783
        },
        "id": "rJvpgzIHqwtL",
        "outputId": "420dc945-082d-4e77-b68d-960f856f71ad"
      },
      "source": [
        "from matplotlib.pyplot import figure\n",
        "figure(figsize=(12, 7), dpi=100)\n",
        "asin = finalColumns[\"asins\"].value_counts().index\n",
        "finalColumns[\"asins\"].value_counts().plot(title=\"Product Count\",kind=\"bar\")\n",
        "plt.show()"
      ],
      "execution_count": null,
      "outputs": [
        {
          "output_type": "display_data",
          "data": {
            "image/png": "[encoded data removed]",
            "text/plain": [
              "<Figure size 1200x700 with 1 Axes>"
            ]
          },
          "metadata": {
            "needs_background": "light"
          }
        }
      ]
    },
    {
      "cell_type": "markdown",
      "metadata": {
        "id": "Mz4bSlBqvhRq"
      },
      "source": [
        "From above we unerstand that there are only few products with correct data"
      ]
    },
    {
      "cell_type": "markdown",
      "metadata": {
        "id": "8C-Wx8DRvs7L"
      },
      "source": [
        "## **Sentiment Analysis Model**\n",
        "Based on our data analysis we perform transform like renaming columns, choosing required columns, dropping the nulls for ratings and reviews column.\n",
        "\n",
        "Then as part of Preprocessing where we are applying tokenization, stop word removal, stemmer function.\n",
        "\n",
        "Then we apply all these preprocessing on the reviews.\n",
        "\n",
        "As per our data analysis we found that 5 and 4 ratings are more, so we group 3,2,1 as negative and only 4,5 as positive to maintain the likely hood for a given review to be not more positive intended.\n",
        "\n",
        "In our data we don't want equal positive and negative reviews because based on the exploratory data and real world data sentiments mostly tend positive so if likely hood is 0 then result won't be very productive\n",
        "Then we divid train and test data and use few models\n"
      ]
    },
    {
      "cell_type": "code",
      "metadata": {
        "id": "DBo74TZhOUWw"
      },
      "source": [
        "#csv_df is our data frame with file data\n",
        "\n",
        "rename=csv_df.rename(columns={'reviews.rating': 'Ratings', 'reviews.text': 'Reviews'})"
      ],
      "execution_count": 224,
      "outputs": []
    },
    {
      "cell_type": "code",
      "metadata": {
        "id": "ZlrY-uWJU27t"
      },
      "source": [
        "requiredColumns=rename_df[['Ratings','Reviews']]"
      ],
      "execution_count": 251,
      "outputs": []
    },
    {
      "cell_type": "code",
      "metadata": {
        "colab": {
          "base_uri": "https://localhost:8080/"
        },
        "id": "a7-hlzkBP6lf",
        "outputId": "9dd5199d-9973-493c-a8c2-038bce9550c6"
      },
      "source": [
        "dropNan_df = requiredColumns.dropna(subset=['Ratings','Reviews'])\n",
        "\n",
        "dropNan_df['Ratings']= dropNan_df['Ratings'].astype(int)"
      ],
      "execution_count": 232,
      "outputs": [
        {
          "output_type": "stream",
          "name": "stderr",
          "text": [
            "/usr/local/lib/python3.7/dist-packages/ipykernel_launcher.py:3: SettingWithCopyWarning: \n",
            "A value is trying to be set on a copy of a slice from a DataFrame.\n",
            "Try using .loc[row_indexer,col_indexer] = value instead\n",
            "\n",
            "See the caveats in the documentation: https://pandas.pydata.org/pandas-docs/stable/user_guide/indexing.html#returning-a-view-versus-a-copy\n",
            "  This is separate from the ipykernel package so we can avoid doing imports until\n"
          ]
        }
      ]
    },
    {
      "cell_type": "markdown",
      "metadata": {
        "id": "QFE3QJcLx64G"
      },
      "source": [
        "**Pre Processing**"
      ]
    },
    {
      "cell_type": "code",
      "metadata": {
        "colab": {
          "base_uri": "https://localhost:8080/"
        },
        "id": "7n7XbBrcQM7a",
        "outputId": "993ef9d1-3b61-4f93-feb6-b942458087d1"
      },
      "source": [
        "nltk.download('punkt')"
      ],
      "execution_count": 226,
      "outputs": [
        {
          "output_type": "stream",
          "name": "stdout",
          "text": [
            "[nltk_data] Downloading package punkt to /root/nltk_data...\n",
            "[nltk_data]   Package punkt is already up-to-date!\n"
          ]
        },
        {
          "output_type": "execute_result",
          "data": {
            "text/plain": [
              "True"
            ]
          },
          "metadata": {},
          "execution_count": 226
        }
      ]
    },
    {
      "cell_type": "markdown",
      "metadata": {
        "id": "-06utW8hx_MW"
      },
      "source": [
        "Function for tokenizing the review"
      ]
    },
    {
      "cell_type": "code",
      "metadata": {
        "id": "mDzP1dc6QPRC"
      },
      "source": [
        "def tokenize_review(review):\n",
        "  review_tokens=word_tokenize(review)\n",
        "  return review_tokens\n"
      ],
      "execution_count": 228,
      "outputs": []
    },
    {
      "cell_type": "markdown",
      "metadata": {
        "id": "JHYSqhmbyZOL"
      },
      "source": [
        "Removing Stop words and punctuations"
      ]
    },
    {
      "cell_type": "code",
      "metadata": {
        "id": "F6MY5-ZlQRgm",
        "colab": {
          "base_uri": "https://localhost:8080/"
        },
        "outputId": "a594fa4a-52f3-415c-a1f2-0903a80dd6e5"
      },
      "source": [
        "nltk.download('stopwords')\n",
        "\n",
        "\n",
        "stopwords_english = stopwords.words('english')\n",
        "\n",
        "punctuations = string.punctuation\n",
        "\n",
        "def remove_stopwords_punctuations(review_tokens):\n",
        "    \n",
        "    review_clean = []\n",
        "    \n",
        "    for word in review_tokens:\n",
        "        if (word not in stopwords_english and word not in punctuations):\n",
        "            review_clean.append(word)\n",
        "            \n",
        "    return review_clean"
      ],
      "execution_count": 229,
      "outputs": [
        {
          "output_type": "stream",
          "name": "stdout",
          "text": [
            "[nltk_data] Downloading package stopwords to /root/nltk_data...\n",
            "[nltk_data]   Package stopwords is already up-to-date!\n"
          ]
        }
      ]
    },
    {
      "cell_type": "markdown",
      "metadata": {
        "id": "jsXSFR3iyzhC"
      },
      "source": [
        "Stemming the words for more relativity in data"
      ]
    },
    {
      "cell_type": "code",
      "metadata": {
        "id": "uAmDAdjMQTYw"
      },
      "source": [
        "stemmer = PorterStemmer()\n",
        "\n",
        "def get_stem(review_clean):\n",
        "    \n",
        "    reviews_stem = []\n",
        "    \n",
        "    for word in review_clean:\n",
        "        stem_word = stemmer.stem(word)\n",
        "        reviews_stem.append(stem_word)\n",
        "        \n",
        "    return reviews_stem"
      ],
      "execution_count": 230,
      "outputs": []
    },
    {
      "cell_type": "markdown",
      "metadata": {
        "id": "yoKojF2sy5NJ"
      },
      "source": [
        "Combing all the preprocessing steps"
      ]
    },
    {
      "cell_type": "code",
      "metadata": {
        "id": "GMutWmpXQWOX"
      },
      "source": [
        "def process_review(review):\n",
        "    \n",
        "    review_tokens = tokenize_review(review)\n",
        "    review_clean = remove_stopwords_punctuations(review_tokens)\n",
        "    reviews_stem = get_stem(review_clean)\n",
        "    \n",
        "    return reviews_stem"
      ],
      "execution_count": 231,
      "outputs": []
    },
    {
      "cell_type": "markdown",
      "metadata": {
        "id": "IWeZVepQy9hI"
      },
      "source": [
        "Applying Preprocessing on the review Column"
      ]
    },
    {
      "cell_type": "code",
      "metadata": {
        "id": "dGaNeOutQX-J",
        "colab": {
          "base_uri": "https://localhost:8080/"
        },
        "outputId": "36b67b74-7d48-40af-919d-ccbb674aabab"
      },
      "source": [
        "dropNan_df['Reviews'].apply(process_review)"
      ],
      "execution_count": 233,
      "outputs": [
        {
          "output_type": "execute_result",
          "data": {
            "text/plain": [
              "0        [thi, product, far, disappoint, My, children, ...\n",
              "1        [great, beginn, experienc, person, bought, gif...\n",
              "2        [inexpens, tablet, use, learn, step, nabi, He,...\n",
              "3        [I, 've, fire, HD, 8, two, week, I, love, thi,...\n",
              "4        [I, bought, grand, daughter, come, visit, I, s...\n",
              "                               ...                        \n",
              "34655    [thi, appreci, faster, 1.8, higher, amp, charg...\n",
              "34656    [amazon, includ, charger, kindl, the, fact, 'r...\n",
              "34657    [love, kindl, fire, I, realli, disappoint, kin...\n",
              "34658    [I, surpris, find, come, type, charg, cord, I,...\n",
              "34659    [spite, fact, noth, good, thing, say, amazon, ...\n",
              "Name: Reviews, Length: 34626, dtype: object"
            ]
          },
          "metadata": {},
          "execution_count": 233
        }
      ]
    },
    {
      "cell_type": "markdown",
      "metadata": {
        "id": "8cgB1LWHzBmG"
      },
      "source": [
        "Creating tagging function"
      ]
    },
    {
      "cell_type": "code",
      "metadata": {
        "id": "RLG9ofbcQZV0"
      },
      "source": [
        "def tagging(rating):\n",
        "  if rating<4 and rating>0:\n",
        "    return 0\n",
        "  if rating==5 or rating==4:\n",
        "    return 1"
      ],
      "execution_count": 234,
      "outputs": []
    },
    {
      "cell_type": "markdown",
      "metadata": {
        "id": "3eYPtBcKzEuU"
      },
      "source": [
        "Applying tagging to ratings"
      ]
    },
    {
      "cell_type": "code",
      "metadata": {
        "colab": {
          "base_uri": "https://localhost:8080/"
        },
        "id": "cI_ONxlTQkgd",
        "outputId": "43c79cef-11dd-4494-b157-4e1c3710c4e7"
      },
      "source": [
        "dropNan_df['Ratings']=dropNan_df['Ratings'].apply(tagging)"
      ],
      "execution_count": 240,
      "outputs": [
        {
          "output_type": "stream",
          "name": "stderr",
          "text": [
            "/usr/local/lib/python3.7/dist-packages/ipykernel_launcher.py:1: SettingWithCopyWarning: \n",
            "A value is trying to be set on a copy of a slice from a DataFrame.\n",
            "Try using .loc[row_indexer,col_indexer] = value instead\n",
            "\n",
            "See the caveats in the documentation: https://pandas.pydata.org/pandas-docs/stable/user_guide/indexing.html#returning-a-view-versus-a-copy\n",
            "  \"\"\"Entry point for launching an IPython kernel.\n"
          ]
        }
      ]
    },
    {
      "cell_type": "markdown",
      "metadata": {
        "id": "ayML5XNqzKkX"
      },
      "source": [
        "Creating list so that we can pass to models"
      ]
    },
    {
      "cell_type": "code",
      "metadata": {
        "id": "jXezw6UQQffl"
      },
      "source": [
        "X_reviews = dropNan_df['Reviews'].to_numpy().tolist()\n",
        "X_rating=dropNan_df['Ratings']"
      ],
      "execution_count": 241,
      "outputs": []
    },
    {
      "cell_type": "markdown",
      "metadata": {
        "id": "wGv6Y7vMzP7C"
      },
      "source": [
        "Train and Test Data Preperation"
      ]
    },
    {
      "cell_type": "code",
      "metadata": {
        "id": "XoRvKzoMQm2a"
      },
      "source": [
        "from sklearn.model_selection import train_test_split\n",
        "X_train, X_test, Y_train, Y_test = train_test_split(X_reviews, X_rating, test_size=0.20)"
      ],
      "execution_count": 242,
      "outputs": []
    },
    {
      "cell_type": "markdown",
      "metadata": {
        "id": "D09tmVZszUck"
      },
      "source": [
        "# **Applying Linear SVC**\n",
        "\n",
        "Here have used linear SVC model because\n",
        "Before applying linear SVC have used count vectorizebecause we need the frequency of the words and have applied n_gram_range parameter as it improved performance\n",
        "Then applied tfidf transform so that we get log values which will help in identifying the words which are more relevant by applying log to them"
      ]
    },
    {
      "cell_type": "code",
      "metadata": {
        "colab": {
          "base_uri": "https://localhost:8080/"
        },
        "id": "fePfbATBQx98",
        "outputId": "2a1449e5-1b16-40af-85cc-c6c050257ad7"
      },
      "source": [
        "from sklearn.svm import LinearSVC\n",
        "from sklearn.pipeline import Pipeline\n",
        "from sklearn.feature_extraction.text import CountVectorizer \n",
        "from sklearn.feature_extraction.text import TfidfTransformer\n",
        "\n",
        "svc_l = Pipeline([(\"cv\", CountVectorizer(ngram_range=(1,1))),(\"tf-idf\", TfidfTransformer()), (\"clf_linearSVC\", LinearSVC())]) \n",
        "svc_l.fit(X_train, Y_train)\n",
        "\n",
        "pred = svc_l.predict(X_test)\n",
        "np.mean(pred == Y_test)"
      ],
      "execution_count": 243,
      "outputs": [
        {
          "output_type": "execute_result",
          "data": {
            "text/plain": [
              "0.938492636442391"
            ]
          },
          "metadata": {},
          "execution_count": 243
        }
      ]
    },
    {
      "cell_type": "markdown",
      "metadata": {
        "id": "O2bYVTemzYlw"
      },
      "source": [
        "# **Grid Search CV**\n",
        "After SVC Linear Model we found a good performance so we tried to fine tune it by applying gridsearch on top of it.\n",
        "here we used 2 parameter one for Count Vectorization and other for tfidf.\n",
        "For Count Vectorization we again performed ngramrange and for tfidf applied useidf."
      ]
    },
    {
      "cell_type": "code",
      "metadata": {
        "colab": {
          "base_uri": "https://localhost:8080/"
        },
        "id": "XI1OqAK0RUK9",
        "outputId": "046dff73-9bb6-48b7-81ed-d11e979f6b62"
      },
      "source": [
        "from sklearn.model_selection import GridSearchCV\n",
        "param = {'cv__ngram_range': [(1, 1), (1, 2)],    \n",
        "             'tf-idf__use_idf': (True, False), \n",
        "             } \n",
        "svc_g = GridSearchCV(svc_l, param, n_jobs=-1)\n",
        "svc_g = svc_g.fit(X_train, Y_train)\n",
        "\n",
        "pred_g=svc_g.predict(X_test)\n",
        "np.mean(pred_g==Y_test)"
      ],
      "execution_count": 245,
      "outputs": [
        {
          "output_type": "execute_result",
          "data": {
            "text/plain": [
              "0.9423909904706902"
            ]
          },
          "metadata": {},
          "execution_count": 245
        }
      ]
    },
    {
      "cell_type": "markdown",
      "metadata": {
        "id": "Gd0ukMys0tRB"
      },
      "source": [
        "# **Other BaseLine Models Performance**\n",
        "\n",
        "Have Used Multinomial Naive Base and Logistic regression models but the performance is better with SVC"
      ]
    },
    {
      "cell_type": "code",
      "metadata": {
        "colab": {
          "base_uri": "https://localhost:8080/"
        },
        "id": "sFP29OcMJ8_M",
        "outputId": "43564e20-7e0e-4545-c141-7c7967c1f6df"
      },
      "source": [
        "from sklearn.naive_bayes import MultinomialNB\n",
        "from sklearn.pipeline import Pipeline\n",
        "nbm = Pipeline([(\"cv\", CountVectorizer(ngram_range=(1,1))), (\"tf-idf\", TfidfTransformer()), (\"multiNB\", MultinomialNB())])\n",
        "nbm.fit(X_train, Y_train)"
      ],
      "execution_count": 246,
      "outputs": [
        {
          "output_type": "execute_result",
          "data": {
            "text/plain": [
              "Pipeline(steps=[('cv', CountVectorizer()), ('tf-idf', TfidfTransformer()),\n",
              "                ('multiNB', MultinomialNB())])"
            ]
          },
          "metadata": {},
          "execution_count": 246
        }
      ]
    },
    {
      "cell_type": "code",
      "metadata": {
        "colab": {
          "base_uri": "https://localhost:8080/"
        },
        "id": "-w_iEjpqLBsj",
        "outputId": "86008582-defc-40e5-c51f-cc32688ebae0"
      },
      "source": [
        "prednbm = nbm.predict(X_test)\n",
        "np.mean(prednbm == Y_test)"
      ],
      "execution_count": 247,
      "outputs": [
        {
          "output_type": "execute_result",
          "data": {
            "text/plain": [
              "0.9311290788333815"
            ]
          },
          "metadata": {},
          "execution_count": 247
        }
      ]
    },
    {
      "cell_type": "code",
      "metadata": {
        "colab": {
          "base_uri": "https://localhost:8080/"
        },
        "id": "nm3MltMlMArI",
        "outputId": "e45b093a-6d80-47e1-ffcb-6d479ff403ed"
      },
      "source": [
        "from sklearn.linear_model import LogisticRegression\n",
        "from sklearn.pipeline import Pipeline\n",
        "lrpipe = Pipeline([(\"cv\", CountVectorizer()), (\"tf-idf\", TfidfTransformer()), (\"lr\", LogisticRegression())])\n",
        "lrpipe.fit(X_train, Y_train)\n",
        "\n",
        "\n",
        "predlr = lrpipe.predict(X_test)\n",
        "np.mean(predlr == Y_test)"
      ],
      "execution_count": 248,
      "outputs": [
        {
          "output_type": "execute_result",
          "data": {
            "text/plain": [
              "0.9371931850996246"
            ]
          },
          "metadata": {},
          "execution_count": 248
        }
      ]
    }
  ]
}